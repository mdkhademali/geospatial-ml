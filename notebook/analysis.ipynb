{
 "cells": [
  {
   "cell_type": "markdown",
   "metadata": {},
   "source": [
    "## Data Exploration, Model Training, and Visualization"
   ]
  },
  {
   "cell_type": "code",
   "execution_count": null,
   "metadata": {},
   "outputs": [],
   "source": [
    "import pandas as pd\n",
    "import geopandas as gpd\n",
    "import matplotlib.pyplot as plt\n",
    "import src.data_processing as dp\n",
    "import src.geospatial_model as gm\n",
    "\n",
    "# Load the dataset\n",
    "gdf = dp.load_data(\"../data/sample_data.csv\")\n",
    "gdf.head()"
   ]
  },
  {
   "cell_type": "markdown",
   "metadata": {},
   "source": [
    "## Exploratory Data Analysis"
   ]
  },
  {
   "cell_type": "code",
   "execution_count": null,
   "metadata": {},
   "outputs": [],
   "source": [
    "# Basic statistics\n",
    "print(gdf.describe())\n",
    "\n",
    "# Class distribution\n",
    "gdf['Label'].value_counts().plot(kind='bar', title=\"Class Distribution\", color=['blue', 'red'])\n",
    "plt.xlabel(\"Class\")\n",
    "plt.ylabel(\"Count\")\n",
    "plt.show()"
   ]
  },
  {
   "cell_type": "code",
   "execution_count": null,
   "metadata": {},
   "outputs": [],
   "source": [
    "import src.data_processing as dp\n",
    "import src.geospatial_model as gm\n",
    "\n",
    "# Load the dataset\n",
    "gdf = dp.load_data(\"../data/sample_data.csv\")\n",
    "gdf.head()"
   ]
  },
  {
   "cell_type": "markdown",
   "metadata": {},
   "source": [
    "## Exploratory Data Analysis"
   ]
  },
  {
   "cell_type": "code",
   "execution_count": null,
   "metadata": {},
   "outputs": [],
   "source": [
    "# Basic statistics\n",
    "print(gdf.describe())\n",
    "\n",
    "# Class distribution\n",
    "gdf['Label'].value_counts().plot(kind='bar', title=\"Class Distribution\", color=['blue', 'red'])\n",
    "plt.xlabel(\"Class\")\n",
    "plt.ylabel(\"Count\")\n",
    "plt.show()"
   ]
  },
  {
   "cell_type": "markdown",
   "metadata": {},
   "source": [
    "## Geospatial Data Visualization"
   ]
  },
  {
   "cell_type": "code",
   "execution_count": null,
   "metadata": {},
   "outputs": [],
   "source": [
    "# Plot geospatial data\n",
    "gm.plot_geospatial_data(gdf)"
   ]
  },
  {
   "cell_type": "markdown",
   "metadata": {},
   "source": [
    "## Model Training and Evaluation"
   ]
  },
  {
   "cell_type": "code",
   "execution_count": null,
   "metadata": {},
   "outputs": [],
   "source": [
    "# Data preprocessing\n",
    "X_train_scaled, X_test_scaled, y_train, y_test = dp.preprocess_data(gdf)\n",
    "\n",
    "# Train model\n",
    "model = gm.train_model(X_train_scaled, y_train)\n",
    "\n",
    "# Evaluate model\n",
    "y_pred = gm.evaluate_model(model, X_test_scaled, y_test)"
   ]
  },
  {
   "cell_type": "markdown",
   "metadata": {},
   "source": [
    "## Predictions and Result Visualization"
   ]
  },
  {
   "cell_type": "code",
   "execution_count": null,
   "metadata": {},
   "outputs": [],
   "source": [
    "# Predict and add results to DataFrame\n",
    "gdf.loc[gdf.index[:len(y_pred)], 'Prediction'] = y_pred\n",
    "\n",
    "# Plot predictions\n",
    "fig, ax = plt.subplots(figsize=(10, 6))\n",
    "gdf[gdf['Prediction'] == 0].plot(ax=ax, color='blue', label='Predicted Class 0', alpha=0.6)\n",
    "gdf[gdf['Prediction'] == 1].plot(ax=ax, color='red', label='Predicted Class 1', alpha=0.6)\n",
    "plt.xlabel(\"Longitude\")\n",
    "plt.ylabel(\"Latitude\")\n",
    "plt.legend()\n",
    "plt.title(\"Predicted Geospatial Data Classification\")\n",
    "plt.show()"
   ]
  }
 ],
 "metadata": {
  "kernelspec": {
   "display_name": "Python 3",
   "language": "python",
   "name": "python3"
  },
  "language_info": {
   "codemirror_mode": {
    "name": "ipython",
    "version": 3
   },
   "file_extension": ".py",
   "mimetype": "text/x-python",
   "name": "python",
   "nbconvert_exporter": "python",
   "pygments_lexer": "ipython3",
   "version": "3.13.0"
  }
 },
 "nbformat": 4,
 "nbformat_minor": 2
}
